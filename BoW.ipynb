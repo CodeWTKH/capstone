{
 "cells": [
  {
   "cell_type": "code",
   "execution_count": 1,
   "metadata": {
    "collapsed": true
   },
   "outputs": [],
   "source": [
    "from sklearn.datasets import fetch_20newsgroups\n",
    "import numpy as np\n",
    "from collections import Counter\n",
    "from sklearn.feature_extraction.text import TfidfVectorizer\n",
    "import matplotlib as plt\n",
    "\n",
    "from sklearn.model_selection import train_test_split\n",
    "from sklearn.svm import LinearSVC\n",
    "from sklearn.metrics import f1_score\n",
    "\n",
    "%matplotlib inline"
   ]
  },
  {
   "cell_type": "code",
   "execution_count": 2,
   "metadata": {
    "collapsed": true
   },
   "outputs": [],
   "source": [
    "remove=('headers', 'footers', 'quotes')\n",
    "categories = [\n",
    "        'alt.atheism',\n",
    "        'talk.religion.misc',\n",
    "        'comp.graphics',\n",
    "        'sci.space',\n",
    "    ]\n",
    "dataset = fetch_20newsgroups(subset='train', categories=categories, random_state=22, remove=remove)\n",
    "testset = fetch_20newsgroups(subset='test', categories=categories, random_state=22, remove=remove)"
   ]
  },
  {
   "cell_type": "code",
   "execution_count": 3,
   "metadata": {},
   "outputs": [],
   "source": [
    "# 简单清洗\n",
    "def clean(data):\n",
    "    pun = \"\"\",.?!;:<>()[]\"\"\"\n",
    "    stop = \"\"\"-_=\"\"\"\n",
    "    data = [z.lower().replace('\\n', '') for z in data]\n",
    "    for p in pun:\n",
    "        data = [z.replace(p, ' %s '%p) for z in data]\n",
    "    for s in stop:\n",
    "        data = [z.replace(s, '') for z in data]\n",
    "    return data\n",
    "data_train = clean(dataset.data)\n",
    "data_test = clean(testset.data)"
   ]
  },
  {
   "cell_type": "code",
   "execution_count": 4,
   "metadata": {},
   "outputs": [],
   "source": [
    "# 文档向量化\n",
    "vectorizer = TfidfVectorizer(min_df=0.003)\n",
    "vec_train = vectorizer.fit_transform(data_train)\n",
    "vec_test = vectorizer.transform(data_test)"
   ]
  },
  {
   "cell_type": "code",
   "execution_count": 8,
   "metadata": {},
   "outputs": [
    {
     "data": {
      "text/plain": [
       "0.81818181818181823"
      ]
     },
     "execution_count": 8,
     "metadata": {},
     "output_type": "execute_result"
    }
   ],
   "source": [
    "# 训练模型，用验证集调参\n",
    "X_train, X_validate, y_train, y_validate = train_test_split(vec_train, dataset.target,\n",
    "                                                           test_size=0.2, random_state=22)\n",
    "clf = LinearSVC(C = 0.5)\n",
    "clf.fit(X_train, y_train)\n",
    "clf.score(X_validate, y_validate)"
   ]
  },
  {
   "cell_type": "code",
   "execution_count": 9,
   "metadata": {},
   "outputs": [
    {
     "data": {
      "text/plain": [
       "0.74870657797487061"
      ]
     },
     "execution_count": 9,
     "metadata": {},
     "output_type": "execute_result"
    }
   ],
   "source": [
    "# 验证集\n",
    "clf.score(vec_test, testset.target)"
   ]
  }
 ],
 "metadata": {
  "kernelspec": {
   "display_name": "Python 3",
   "language": "python",
   "name": "python3"
  },
  "language_info": {
   "codemirror_mode": {
    "name": "ipython",
    "version": 3
   },
   "file_extension": ".py",
   "mimetype": "text/x-python",
   "name": "python",
   "nbconvert_exporter": "python",
   "pygments_lexer": "ipython3",
   "version": "3.6.0"
  }
 },
 "nbformat": 4,
 "nbformat_minor": 2
}
