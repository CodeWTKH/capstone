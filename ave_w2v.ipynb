{
 "cells": [
  {
   "cell_type": "code",
   "execution_count": null,
   "metadata": {
    "collapsed": false
   },
   "outputs": [],
   "source": [
    "from sklearn.datasets import fetch_20newsgroups\n",
    "from gensim.models.word2vec import Word2Vec\n",
    "from sklearn.linear_model import SGDClassifier\n",
    "import numpy as np"
   ]
  },
  {
   "cell_type": "code",
   "execution_count": null,
   "metadata": {
    "collapsed": false
   },
   "outputs": [],
   "source": [
    "remove=('footers', 'quotes')\n",
    "categories = [\n",
    "        'alt.atheism',\n",
    "        'talk.religion.misc',\n",
    "        'comp.graphics',\n",
    "        'sci.space',\n",
    "    ]\n",
    "dataset = fetch_20newsgroups(subset='train', categories=categories, random_state=22, remove=remove)\n",
    "testset = fetch_20newsgroups(subset='test', categories=categories, random_state=22, remove=remove)"
   ]
  },
  {
   "cell_type": "code",
   "execution_count": null,
   "metadata": {
    "collapsed": false
   },
   "outputs": [],
   "source": [
    "# 简单清洗\n",
    "def clean(data):\n",
    "    pun = \"\"\",.?!;:<>\\\"\\'()[]\"\"\"\n",
    "    stop = \"\"\"-_=\"\"\"\n",
    "    data = [z.lower().replace('\\n', ' ') for z in data]\n",
    "    for p in pun:\n",
    "        data = [z.replace(p, ' ') for z in data]\n",
    "    for s in stop:\n",
    "        data = [z.replace(s, ' ') for z in data]\n",
    "    data = [z.split() for z in data]\n",
    "    return data\n",
    "data_train = clean(dataset.data)\n",
    "data_test = clean(testset.data)\n",
    "# 读取额外语料\n",
    "with open('text8', 'r') as f:\n",
    "    ex_text = f.readlines()\n",
    "ex_data = [z.split() for z in ex_text]"
   ]
  },
  {
   "cell_type": "code",
   "execution_count": null,
   "metadata": {
    "collapsed": false
   },
   "outputs": [],
   "source": [
    "corpus.extend(data_train)\n",
    "corpus.extend(ex_data)"
   ]
  },
  {
   "cell_type": "code",
   "execution_count": null,
   "metadata": {
    "collapsed": true
   },
   "outputs": [],
   "source": [
    "model = Word2Vec(corpus,\n",
    "                 min_count=10,\n",
    "                 iter=3, \n",
    "                 size=256, \n",
    "                 window=5,\n",
    "                 workers=8)"
   ]
  },
  {
   "cell_type": "code",
   "execution_count": null,
   "metadata": {
    "collapsed": false,
    "scrolled": false
   },
   "outputs": [],
   "source": [
    "def ave_w2v(content):\n",
    "    if not isinstance(content, np.ndarray):\n",
    "        content = np.array(content)\n",
    "    word_cnt = 0\n",
    "    d2v = np.zeros(256)\n",
    "    for word in content:\n",
    "        if word not in model:\n",
    "            continue\n",
    "        d2v = np.add(model[word], d2v)\n",
    "        word_cnt += 1\n",
    "    return np.divide(d2v, word_cnt)\n",
    "\n",
    "data_train_v = map(ave_w2v, data_train)\n",
    "data_test_v = map(ave_w2v, data_test)"
   ]
  },
  {
   "cell_type": "code",
   "execution_count": null,
   "metadata": {
    "collapsed": false
   },
   "outputs": [],
   "source": [
    "sgd_clf = SGDClassifier(loss='log', penalty=None, )\n",
    "sgd_clf.fit(data_train_v, dataset.target)"
   ]
  },
  {
   "cell_type": "code",
   "execution_count": null,
   "metadata": {
    "collapsed": false
   },
   "outputs": [],
   "source": [
    "sgd_clf.score(data_test_v, testset.target)"
   ]
  }
 ],
 "metadata": {
  "kernelspec": {
   "display_name": "Python 2",
   "language": "python",
   "name": "python2"
  },
  "language_info": {
   "codemirror_mode": {
    "name": "ipython",
    "version": 2
   },
   "file_extension": ".py",
   "mimetype": "text/x-python",
   "name": "python",
   "nbconvert_exporter": "python",
   "pygments_lexer": "ipython2",
   "version": "2.7.13"
  }
 },
 "nbformat": 4,
 "nbformat_minor": 2
}
